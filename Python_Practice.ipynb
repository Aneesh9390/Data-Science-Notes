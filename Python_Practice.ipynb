{
  "nbformat": 4,
  "nbformat_minor": 0,
  "metadata": {
    "colab": {
      "provenance": [],
      "authorship_tag": "ABX9TyMFs3Wkdcyt04IJ16kiS1BP",
      "include_colab_link": true
    },
    "kernelspec": {
      "name": "python3",
      "display_name": "Python 3"
    },
    "language_info": {
      "name": "python"
    }
  },
  "cells": [
    {
      "cell_type": "markdown",
      "metadata": {
        "id": "view-in-github",
        "colab_type": "text"
      },
      "source": [
        "<a href=\"https://colab.research.google.com/github/Aneesh9390/Data-Science-Notes/blob/main/Python_Practice.ipynb\" target=\"_parent\"><img src=\"https://colab.research.google.com/assets/colab-badge.svg\" alt=\"Open In Colab\"/></a>"
      ]
    },
    {
      "cell_type": "markdown",
      "source": [
        "# Python Practice"
      ],
      "metadata": {
        "id": "gZjEGOPNxi4-"
      }
    },
    {
      "cell_type": "markdown",
      "source": [
        "## Arithmetic Operations\n"
      ],
      "metadata": {
        "id": "lQjTqaUKygdC"
      }
    },
    {
      "cell_type": "code",
      "execution_count": 1,
      "metadata": {
        "colab": {
          "base_uri": "https://localhost:8080/"
        },
        "id": "Gcs9oqkjYnTi",
        "outputId": "ca218d76-b8b8-4102-fe5b-685c10a1fbfa"
      },
      "outputs": [
        {
          "output_type": "execute_result",
          "data": {
            "text/plain": [
              "2"
            ]
          },
          "metadata": {},
          "execution_count": 1
        }
      ],
      "source": [
        "1 + 1"
      ]
    },
    {
      "cell_type": "code",
      "source": [
        "3 * 6"
      ],
      "metadata": {
        "colab": {
          "base_uri": "https://localhost:8080/"
        },
        "id": "4pebmXbgxsE3",
        "outputId": "652243fb-b615-4c28-8602-7055e31dd88f"
      },
      "execution_count": 2,
      "outputs": [
        {
          "output_type": "execute_result",
          "data": {
            "text/plain": [
              "18"
            ]
          },
          "metadata": {},
          "execution_count": 2
        }
      ]
    },
    {
      "cell_type": "code",
      "source": [
        "634/4"
      ],
      "metadata": {
        "colab": {
          "base_uri": "https://localhost:8080/"
        },
        "id": "8zDdEfZixu2g",
        "outputId": "9321a55f-9078-4ec8-a45e-9157cc676bb9"
      },
      "execution_count": 3,
      "outputs": [
        {
          "output_type": "execute_result",
          "data": {
            "text/plain": [
              "158.5"
            ]
          },
          "metadata": {},
          "execution_count": 3
        }
      ]
    },
    {
      "cell_type": "code",
      "source": [
        "10/2\n"
      ],
      "metadata": {
        "colab": {
          "base_uri": "https://localhost:8080/"
        },
        "id": "wWo1HG2IxzY8",
        "outputId": "a56a6737-0eb3-4903-bb1a-a74d94c3fbf7"
      },
      "execution_count": 4,
      "outputs": [
        {
          "output_type": "execute_result",
          "data": {
            "text/plain": [
              "5.0"
            ]
          },
          "metadata": {},
          "execution_count": 4
        }
      ]
    },
    {
      "cell_type": "code",
      "source": [
        "10%2"
      ],
      "metadata": {
        "colab": {
          "base_uri": "https://localhost:8080/"
        },
        "id": "YCfFBHQxx5zH",
        "outputId": "93e7a773-ad0e-4fec-d46e-ea98b79ce8d6"
      },
      "execution_count": 5,
      "outputs": [
        {
          "output_type": "execute_result",
          "data": {
            "text/plain": [
              "0"
            ]
          },
          "metadata": {},
          "execution_count": 5
        }
      ]
    },
    {
      "cell_type": "code",
      "source": [
        "10**2"
      ],
      "metadata": {
        "colab": {
          "base_uri": "https://localhost:8080/"
        },
        "id": "r-vGanJWx6vf",
        "outputId": "5a54a90f-8ffe-4320-f2b3-38be5bd89110"
      },
      "execution_count": 6,
      "outputs": [
        {
          "output_type": "execute_result",
          "data": {
            "text/plain": [
              "100"
            ]
          },
          "metadata": {},
          "execution_count": 6
        }
      ]
    },
    {
      "cell_type": "code",
      "source": [
        "10//2"
      ],
      "metadata": {
        "colab": {
          "base_uri": "https://localhost:8080/"
        },
        "id": "xWYhiIA_x9uo",
        "outputId": "55c857f4-cf8b-486b-8a5b-fd2a9a694d14"
      },
      "execution_count": 7,
      "outputs": [
        {
          "output_type": "execute_result",
          "data": {
            "text/plain": [
              "5"
            ]
          },
          "metadata": {},
          "execution_count": 7
        }
      ]
    },
    {
      "cell_type": "code",
      "source": [
        "10 * 'str'"
      ],
      "metadata": {
        "colab": {
          "base_uri": "https://localhost:8080/",
          "height": 36
        },
        "id": "4t8b_hpbx-5X",
        "outputId": "31f6bd20-f353-4318-94e1-4c1ddf9bed1a"
      },
      "execution_count": 8,
      "outputs": [
        {
          "output_type": "execute_result",
          "data": {
            "text/plain": [
              "'strstrstrstrstrstrstrstrstrstr'"
            ],
            "application/vnd.google.colaboratory.intrinsic+json": {
              "type": "string"
            }
          },
          "metadata": {},
          "execution_count": 8
        }
      ]
    },
    {
      "cell_type": "markdown",
      "source": [
        "#### Checking Data Type"
      ],
      "metadata": {
        "id": "UV3Sik-syLD5"
      }
    },
    {
      "cell_type": "code",
      "source": [
        "type(23)"
      ],
      "metadata": {
        "colab": {
          "base_uri": "https://localhost:8080/"
        },
        "id": "UXx4D5T4yFE1",
        "outputId": "535c7efc-0572-4edd-9e8b-b1642c78bfc8"
      },
      "execution_count": 9,
      "outputs": [
        {
          "output_type": "execute_result",
          "data": {
            "text/plain": [
              "int"
            ]
          },
          "metadata": {},
          "execution_count": 9
        }
      ]
    },
    {
      "cell_type": "code",
      "source": [
        "type('fds')"
      ],
      "metadata": {
        "colab": {
          "base_uri": "https://localhost:8080/"
        },
        "id": "Aqkai4UwyQe2",
        "outputId": "27f7cab2-556a-4461-c7de-7fa4abbbbf45"
      },
      "execution_count": 10,
      "outputs": [
        {
          "output_type": "execute_result",
          "data": {
            "text/plain": [
              "str"
            ]
          },
          "metadata": {},
          "execution_count": 10
        }
      ]
    },
    {
      "cell_type": "code",
      "source": [
        "type(True)"
      ],
      "metadata": {
        "colab": {
          "base_uri": "https://localhost:8080/"
        },
        "id": "8v723gxqyVMV",
        "outputId": "69f154a6-7e39-4cb1-965e-87f1176e7746"
      },
      "execution_count": 11,
      "outputs": [
        {
          "output_type": "execute_result",
          "data": {
            "text/plain": [
              "bool"
            ]
          },
          "metadata": {},
          "execution_count": 11
        }
      ]
    },
    {
      "cell_type": "code",
      "source": [
        "type(1.23)"
      ],
      "metadata": {
        "colab": {
          "base_uri": "https://localhost:8080/"
        },
        "id": "M8nuJZ0u0w-F",
        "outputId": "c08683eb-c72a-454b-f468-49f0df92e5f5"
      },
      "execution_count": 18,
      "outputs": [
        {
          "output_type": "execute_result",
          "data": {
            "text/plain": [
              "float"
            ]
          },
          "metadata": {},
          "execution_count": 18
        }
      ]
    },
    {
      "cell_type": "code",
      "source": [
        "type([12,3,53,1,24])"
      ],
      "metadata": {
        "colab": {
          "base_uri": "https://localhost:8080/"
        },
        "id": "QNG-aMsB021L",
        "outputId": "5f357dd4-6e2b-4719-a42f-b35a6277bfc9"
      },
      "execution_count": 19,
      "outputs": [
        {
          "output_type": "execute_result",
          "data": {
            "text/plain": [
              "list"
            ]
          },
          "metadata": {},
          "execution_count": 19
        }
      ]
    },
    {
      "cell_type": "code",
      "source": [
        "# BODMAS\n",
        "print((4 - 8)*(5 + 2)/2*10)"
      ],
      "metadata": {
        "colab": {
          "base_uri": "https://localhost:8080/"
        },
        "id": "C5JLzzoZyq6m",
        "outputId": "7f6b235e-8859-4ba5-945d-3a2dd7f2dd40"
      },
      "execution_count": 13,
      "outputs": [
        {
          "output_type": "stream",
          "name": "stdout",
          "text": [
            "-140.0\n"
          ]
        }
      ]
    },
    {
      "cell_type": "code",
      "source": [
        "firstName = 'Mad'\n",
        "lastName = 'Mutant'"
      ],
      "metadata": {
        "id": "wLIjenSVy6Xl"
      },
      "execution_count": 20,
      "outputs": []
    },
    {
      "cell_type": "code",
      "source": [
        "print(\"My first name is {} and my last name is {}. And what is urs?\".format(firstName, lastName))"
      ],
      "metadata": {
        "colab": {
          "base_uri": "https://localhost:8080/"
        },
        "id": "jWks7ROWzx94",
        "outputId": "743cf0b9-1822-431a-b2ba-07ce8ec34591"
      },
      "execution_count": 21,
      "outputs": [
        {
          "output_type": "stream",
          "name": "stdout",
          "text": [
            "My first name is Mad and my last name is Mutant. And what is urs?\n"
          ]
        }
      ]
    },
    {
      "cell_type": "code",
      "source": [
        "print(\"My first name is {_abc} and my last name is {_def}. And what is urs?\".format(_def = lastName, _abc = firstName))"
      ],
      "metadata": {
        "colab": {
          "base_uri": "https://localhost:8080/"
        },
        "id": "CG5PodCN0DOi",
        "outputId": "c39ab43d-a00a-4520-f50e-b3117ad73908"
      },
      "execution_count": 22,
      "outputs": [
        {
          "output_type": "stream",
          "name": "stdout",
          "text": [
            "My first name is Mad and my last name is Mutant. And what is urs?\n"
          ]
        }
      ]
    },
    {
      "cell_type": "code",
      "source": [
        "len('Mad Mutant')"
      ],
      "metadata": {
        "colab": {
          "base_uri": "https://localhost:8080/"
        },
        "id": "HDbbmXTz0ffH",
        "outputId": "1f8535b5-de3e-4a53-bbbb-a207b01fb4ce"
      },
      "execution_count": 23,
      "outputs": [
        {
          "output_type": "execute_result",
          "data": {
            "text/plain": [
              "10"
            ]
          },
          "metadata": {},
          "execution_count": 23
        }
      ]
    },
    {
      "cell_type": "markdown",
      "source": [
        "## Why Python is Best for Machine Learning?\n",
        "\n",
        "- Compared to other languages used for ML, interest in usage of python has growed 10X over 5 years based on 2014 to 2019 data.\n",
        "- Other languages include:\n",
        "  - Scala\n",
        "  - R programming\n",
        "  - Julia\n",
        "  - Java\n",
        "\n",
        "- Reasons :\n",
        "  1. Easy to use\n",
        "    - more like high level language\n",
        "  2. Takes \"Less lines of code\"\n",
        "  3. Supports n number of libraries and frameworks\n",
        "    - Libraries used for ML:\n",
        "    \n",
        "      a. **Numpy** - Used to create multi-dimensional arrays\n",
        "      \n",
        "      b. **Pandas** - used to read/write from/into different kinds of data sources\n",
        "      \n",
        "      c. **Scikit Learn** - most famous ML library which contains most of the ML algos, includes : for supervised (Simple Linear Regression, Logistic Regression, Decision Tree, Random Forest, AdaBoost, Gradient Boost) and unsupervised (Clustering - KMeans, Hierarchical)\n",
        "\n",
        "      d. **Matploltlib** - used for visualisations\n",
        "\n",
        "      e. **Seaborn** - used for visualisations and includes some more statistical analytics tools\n",
        "\n",
        "    - Frameworks (below frameworks are used for DeepLearning):\n",
        "      \n",
        "      a. **Tensorflow**\n",
        "\n",
        "      b. **PyTorch**\n",
        "\n",
        "      c. **Keras**\n",
        "\n",
        "  4. It has big community and corporate support"
      ],
      "metadata": {
        "id": "vqN8WjAA9RmL"
      }
    }
  ]
}