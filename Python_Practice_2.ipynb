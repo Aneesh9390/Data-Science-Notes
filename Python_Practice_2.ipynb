{
  "nbformat": 4,
  "nbformat_minor": 0,
  "metadata": {
    "colab": {
      "provenance": [],
      "authorship_tag": "ABX9TyPuH0gWpwhr6HydrptG7NTL",
      "include_colab_link": true
    },
    "kernelspec": {
      "name": "python3",
      "display_name": "Python 3"
    },
    "language_info": {
      "name": "python"
    }
  },
  "cells": [
    {
      "cell_type": "markdown",
      "metadata": {
        "id": "view-in-github",
        "colab_type": "text"
      },
      "source": [
        "<a href=\"https://colab.research.google.com/github/Aneesh9390/Data-Science-Notes/blob/main/Python_Practice_2.ipynb\" target=\"_parent\"><img src=\"https://colab.research.google.com/assets/colab-badge.svg\" alt=\"Open In Colab\"/></a>"
      ]
    },
    {
      "cell_type": "markdown",
      "source": [
        "# Python Data Structures and Boolean"
      ],
      "metadata": {
        "id": "Jrvu3_qN5J6q"
      }
    },
    {
      "cell_type": "markdown",
      "source": [
        "## Boolean Variables\n",
        "\n",
        "  - True\n",
        "  - False\n",
        "\n",
        "  Numerically :\n",
        "    - 0 : is used to represent False\n",
        "    - any integer other than 0 ( [-inf, inf] - 0 ) : is used to represent True"
      ],
      "metadata": {
        "id": "ewvFihRH5gQY"
      }
    },
    {
      "cell_type": "code",
      "execution_count": null,
      "metadata": {
        "colab": {
          "base_uri": "https://localhost:8080/"
        },
        "id": "_375-STO40Rk",
        "outputId": "4c0878f3-206a-45e1-f581-5463b567eebb"
      },
      "outputs": [
        {
          "output_type": "stream",
          "name": "stdout",
          "text": [
            "This will print as it is True\n"
          ]
        }
      ],
      "source": [
        "if 0:\n",
        "  print(\"This won't be printed as it is false\")\n",
        "elif 1:\n",
        "  print(\"This will print as it is True\")"
      ]
    },
    {
      "cell_type": "code",
      "source": [
        "if 32 :\n",
        "  if 0:\n",
        "    print(\"False\")\n",
        "  elif -231:\n",
        "    print(\"To show any other integer other than 0 works as True\")"
      ],
      "metadata": {
        "colab": {
          "base_uri": "https://localhost:8080/"
        },
        "id": "396VVjEs5xcf",
        "outputId": "6c95fe84-77b4-4562-fcbb-937c3951c500"
      },
      "execution_count": null,
      "outputs": [
        {
          "output_type": "stream",
          "name": "stdout",
          "text": [
            "To show any other integer other than 0 works as True\n"
          ]
        }
      ]
    },
    {
      "cell_type": "markdown",
      "source": [
        "bool() is used to convert integer value into boolean representation"
      ],
      "metadata": {
        "id": "jZfMhscc82CS"
      }
    },
    {
      "cell_type": "code",
      "source": [
        "bool(0)"
      ],
      "metadata": {
        "colab": {
          "base_uri": "https://localhost:8080/"
        },
        "id": "69pCxcnp8oLb",
        "outputId": "8435f563-3d8a-4a7e-d937-5a7c3cabef18"
      },
      "execution_count": null,
      "outputs": [
        {
          "output_type": "execute_result",
          "data": {
            "text/plain": [
              "False"
            ]
          },
          "metadata": {},
          "execution_count": 3
        }
      ]
    },
    {
      "cell_type": "code",
      "source": [
        "bool(231)"
      ],
      "metadata": {
        "colab": {
          "base_uri": "https://localhost:8080/"
        },
        "id": "M9mtt-Iv8wVA",
        "outputId": "4c1b937a-b89e-40d6-8d05-91a4aecf6212"
      },
      "execution_count": null,
      "outputs": [
        {
          "output_type": "execute_result",
          "data": {
            "text/plain": [
              "True"
            ]
          },
          "metadata": {},
          "execution_count": 4
        }
      ]
    },
    {
      "cell_type": "code",
      "source": [
        "bool(-765)"
      ],
      "metadata": {
        "colab": {
          "base_uri": "https://localhost:8080/"
        },
        "id": "mXI9GG1-8_wP",
        "outputId": "6166b838-be1d-4555-fa51-d3767a83efe8"
      },
      "execution_count": null,
      "outputs": [
        {
          "output_type": "execute_result",
          "data": {
            "text/plain": [
              "True"
            ]
          },
          "metadata": {},
          "execution_count": 5
        }
      ]
    },
    {
      "cell_type": "code",
      "source": [
        "print(\"The Data type of True is {} and the Data Type of False is {}\".format(type(True), type(False)))"
      ],
      "metadata": {
        "colab": {
          "base_uri": "https://localhost:8080/"
        },
        "id": "iGc9MvRu9Atf",
        "outputId": "7f45d13c-c3c9-41d1-aa3f-8c90a25b6f5f"
      },
      "execution_count": null,
      "outputs": [
        {
          "output_type": "stream",
          "name": "stdout",
          "text": [
            "The Data type of True is <class 'bool'> and the Data Type of False is <class 'bool'>\n"
          ]
        }
      ]
    },
    {
      "cell_type": "code",
      "source": [
        "string = \"Mad Mutant\""
      ],
      "metadata": {
        "id": "3GwVGNBN9lHh"
      },
      "execution_count": null,
      "outputs": []
    },
    {
      "cell_type": "markdown",
      "source": [
        "There are many in-built functions on string operations to check a particular condition and gives you output in \"**True**\" or \"**False**\", to let you know if it is possible or not."
      ],
      "metadata": {
        "id": "HJcMcMfK937l"
      }
    },
    {
      "cell_type": "code",
      "source": [
        "print(string.isalnum())\n",
        "print(string.isalpha())\n",
        "print(string.isdigit())\n",
        "print(string.istitle())\n",
        "print(string.isupper())\n",
        "print(string.islower())\n",
        "print(string.isspace())\n",
        "print(string.endswith('T'))\n",
        "print(string.startswith('M'))"
      ],
      "metadata": {
        "colab": {
          "base_uri": "https://localhost:8080/"
        },
        "id": "fMDxtL479z1O",
        "outputId": "a30e2120-d52c-4413-9447-49ec409736bd"
      },
      "execution_count": null,
      "outputs": [
        {
          "output_type": "stream",
          "name": "stdout",
          "text": [
            "False\n",
            "False\n",
            "False\n",
            "True\n",
            "False\n",
            "False\n",
            "False\n",
            "False\n",
            "True\n"
          ]
        }
      ]
    },
    {
      "cell_type": "markdown",
      "source": [
        "### Boolean Operations"
      ],
      "metadata": {
        "id": "KshXSWE9B8WP"
      }
    },
    {
      "cell_type": "code",
      "source": [
        "True and True"
      ],
      "metadata": {
        "colab": {
          "base_uri": "https://localhost:8080/"
        },
        "id": "24jFaQtWBRRK",
        "outputId": "9de8977f-9604-401e-ed5f-dd8fcb626c7d"
      },
      "execution_count": null,
      "outputs": [
        {
          "output_type": "execute_result",
          "data": {
            "text/plain": [
              "True"
            ]
          },
          "metadata": {},
          "execution_count": 9
        }
      ]
    },
    {
      "cell_type": "code",
      "source": [
        "True and False"
      ],
      "metadata": {
        "colab": {
          "base_uri": "https://localhost:8080/"
        },
        "id": "UdMmUM0yCBKF",
        "outputId": "a2a376dc-a2ce-44a8-d996-0051c43a39d0"
      },
      "execution_count": null,
      "outputs": [
        {
          "output_type": "execute_result",
          "data": {
            "text/plain": [
              "False"
            ]
          },
          "metadata": {},
          "execution_count": 10
        }
      ]
    },
    {
      "cell_type": "code",
      "source": [
        "True or False"
      ],
      "metadata": {
        "colab": {
          "base_uri": "https://localhost:8080/"
        },
        "id": "tZVBgjMSCDI3",
        "outputId": "0e178f79-c96b-449f-e660-69d4fd746cd5"
      },
      "execution_count": null,
      "outputs": [
        {
          "output_type": "execute_result",
          "data": {
            "text/plain": [
              "True"
            ]
          },
          "metadata": {},
          "execution_count": 11
        }
      ]
    },
    {
      "cell_type": "code",
      "source": [
        "True or True"
      ],
      "metadata": {
        "colab": {
          "base_uri": "https://localhost:8080/"
        },
        "id": "N4lkaTxhCGg9",
        "outputId": "87ef17c4-82ee-420b-ab28-8a6c38a9fdbd"
      },
      "execution_count": null,
      "outputs": [
        {
          "output_type": "execute_result",
          "data": {
            "text/plain": [
              "True"
            ]
          },
          "metadata": {},
          "execution_count": 12
        }
      ]
    },
    {
      "cell_type": "code",
      "source": [
        "s = 'Mad'\n",
        "s.isalpha() or s.isdigit()"
      ],
      "metadata": {
        "colab": {
          "base_uri": "https://localhost:8080/"
        },
        "id": "5A46u-_-CIiQ",
        "outputId": "f563c66a-5e2a-40d8-d542-34fdd30f7fc4"
      },
      "execution_count": null,
      "outputs": [
        {
          "output_type": "execute_result",
          "data": {
            "text/plain": [
              "True"
            ]
          },
          "metadata": {},
          "execution_count": 13
        }
      ]
    },
    {
      "cell_type": "markdown",
      "source": [
        "## Lists\n",
        "\n",
        "\n",
        "In Python, a list is an ordered collection of items that can be changed (mutable) and can hold different data types, all enclosed in square brackets [ ]"
      ],
      "metadata": {
        "id": "7FlAukOeCsZc"
      }
    },
    {
      "cell_type": "code",
      "source": [
        "type([])"
      ],
      "metadata": {
        "colab": {
          "base_uri": "https://localhost:8080/"
        },
        "id": "RB3gE1HpEY_1",
        "outputId": "788815c5-e212-4ad3-d171-cdeb7a3c3440"
      },
      "execution_count": null,
      "outputs": [
        {
          "output_type": "execute_result",
          "data": {
            "text/plain": [
              "list"
            ]
          },
          "metadata": {},
          "execution_count": 14
        }
      ]
    },
    {
      "cell_type": "code",
      "source": [
        "lst = []"
      ],
      "metadata": {
        "id": "FTrEKU5dCQU5"
      },
      "execution_count": null,
      "outputs": []
    },
    {
      "cell_type": "code",
      "source": [
        "type(list())"
      ],
      "metadata": {
        "colab": {
          "base_uri": "https://localhost:8080/"
        },
        "id": "XwGNX4nUEaXU",
        "outputId": "2ea63f5b-193c-4347-ef52-f0fbc8edf358"
      },
      "execution_count": null,
      "outputs": [
        {
          "output_type": "execute_result",
          "data": {
            "text/plain": [
              "list"
            ]
          },
          "metadata": {},
          "execution_count": 16
        }
      ]
    },
    {
      "cell_type": "code",
      "source": [
        "lst2 = list()"
      ],
      "metadata": {
        "id": "myC3rrNHEeNi"
      },
      "execution_count": null,
      "outputs": []
    },
    {
      "cell_type": "code",
      "source": [
        "lst = ['Learn', 'withFun', 32, -97,2049.3]"
      ],
      "metadata": {
        "id": "1jDYYNEMEg0r"
      },
      "execution_count": null,
      "outputs": []
    },
    {
      "cell_type": "code",
      "source": [
        "len(lst)"
      ],
      "metadata": {
        "colab": {
          "base_uri": "https://localhost:8080/"
        },
        "id": "mETTUmPIEuHe",
        "outputId": "b138962e-b702-4c7e-de47-85a494541efb"
      },
      "execution_count": null,
      "outputs": [
        {
          "output_type": "execute_result",
          "data": {
            "text/plain": [
              "5"
            ]
          },
          "metadata": {},
          "execution_count": 19
        }
      ]
    },
    {
      "cell_type": "code",
      "source": [
        "len(lst2)"
      ],
      "metadata": {
        "colab": {
          "base_uri": "https://localhost:8080/"
        },
        "id": "ZXbuAyoGEzBb",
        "outputId": "3866e08f-15de-4425-d4a9-c2d7ed8d6fa7"
      },
      "execution_count": null,
      "outputs": [
        {
          "output_type": "execute_result",
          "data": {
            "text/plain": [
              "0"
            ]
          },
          "metadata": {},
          "execution_count": 20
        }
      ]
    },
    {
      "cell_type": "markdown",
      "source": [
        "**append** - in built func in list\n",
        "\n",
        "  - gets added in the last only"
      ],
      "metadata": {
        "id": "LWfjk7eUE5jx"
      }
    },
    {
      "cell_type": "code",
      "source": [
        "lst2.append(\"Maaya\")"
      ],
      "metadata": {
        "id": "xrb31l5HE0Dx"
      },
      "execution_count": null,
      "outputs": []
    },
    {
      "cell_type": "code",
      "source": [
        "len(lst2)"
      ],
      "metadata": {
        "colab": {
          "base_uri": "https://localhost:8080/"
        },
        "id": "C5vzq6UxFJg0",
        "outputId": "ca6c4a7a-4b70-46b3-ccae-5a4bfba0fca8"
      },
      "execution_count": null,
      "outputs": [
        {
          "output_type": "execute_result",
          "data": {
            "text/plain": [
              "1"
            ]
          },
          "metadata": {},
          "execution_count": 22
        }
      ]
    },
    {
      "cell_type": "code",
      "source": [
        "lst2"
      ],
      "metadata": {
        "colab": {
          "base_uri": "https://localhost:8080/"
        },
        "id": "G1_DZgn9FKhX",
        "outputId": "7745d0fc-26df-4070-e9c2-9cf22c2ddd6e"
      },
      "execution_count": null,
      "outputs": [
        {
          "output_type": "execute_result",
          "data": {
            "text/plain": [
              "['Maaya']"
            ]
          },
          "metadata": {},
          "execution_count": 23
        }
      ]
    },
    {
      "cell_type": "markdown",
      "source": [
        "**slicing** : printing or accessing sub list/array\n"
      ],
      "metadata": {
        "id": "1cQmtn1yz092"
      }
    },
    {
      "cell_type": "code",
      "source": [
        "lst"
      ],
      "metadata": {
        "colab": {
          "base_uri": "https://localhost:8080/"
        },
        "id": "AcqjpoAvz0S1",
        "outputId": "11f05ef1-bd52-430d-d0dd-b41634ada78a"
      },
      "execution_count": null,
      "outputs": [
        {
          "output_type": "execute_result",
          "data": {
            "text/plain": [
              "['Learn', 'withFun', 32, -97, 2049.3]"
            ]
          },
          "metadata": {},
          "execution_count": 24
        }
      ]
    },
    {
      "cell_type": "code",
      "source": [
        "lst[:]"
      ],
      "metadata": {
        "colab": {
          "base_uri": "https://localhost:8080/"
        },
        "id": "gf_7Zd7L0B59",
        "outputId": "e31c0e47-953f-4f8e-80c6-b336a1ff598e"
      },
      "execution_count": null,
      "outputs": [
        {
          "output_type": "execute_result",
          "data": {
            "text/plain": [
              "['Learn', 'withFun', 32, -97, 2049.3]"
            ]
          },
          "metadata": {},
          "execution_count": 25
        }
      ]
    },
    {
      "cell_type": "code",
      "source": [
        "lst[1:]"
      ],
      "metadata": {
        "colab": {
          "base_uri": "https://localhost:8080/"
        },
        "id": "07aHgYDO0Dvk",
        "outputId": "47430db9-7af3-45d4-9ff0-d14e58d4b189"
      },
      "execution_count": null,
      "outputs": [
        {
          "output_type": "execute_result",
          "data": {
            "text/plain": [
              "['withFun', 32, -97, 2049.3]"
            ]
          },
          "metadata": {},
          "execution_count": 26
        }
      ]
    },
    {
      "cell_type": "code",
      "source": [
        "lst[:len(lst)-2]"
      ],
      "metadata": {
        "colab": {
          "base_uri": "https://localhost:8080/"
        },
        "id": "h-bVg6jB0Fw2",
        "outputId": "937315c8-1c63-4f13-f653-3b184f87abec"
      },
      "execution_count": null,
      "outputs": [
        {
          "output_type": "execute_result",
          "data": {
            "text/plain": [
              "['Learn', 'withFun', 32]"
            ]
          },
          "metadata": {},
          "execution_count": 27
        }
      ]
    },
    {
      "cell_type": "code",
      "source": [
        "lst[::-1]"
      ],
      "metadata": {
        "colab": {
          "base_uri": "https://localhost:8080/"
        },
        "id": "Euq44bKC0Jt6",
        "outputId": "257f532c-33c0-4c92-df24-f2574689da89"
      },
      "execution_count": null,
      "outputs": [
        {
          "output_type": "execute_result",
          "data": {
            "text/plain": [
              "[2049.3, -97, 32, 'withFun', 'Learn']"
            ]
          },
          "metadata": {},
          "execution_count": 29
        }
      ]
    },
    {
      "cell_type": "markdown",
      "source": [
        "**insert** - in built func in list\n",
        "\n",
        "  - gets added at the specified place in the list\n",
        "  - arr.insert(idx, \"element\")"
      ],
      "metadata": {
        "id": "ZQSffcoXFZ6M"
      }
    },
    {
      "cell_type": "code",
      "source": [
        "lst2"
      ],
      "metadata": {
        "id": "4hr-gZDPFMnu",
        "colab": {
          "base_uri": "https://localhost:8080/"
        },
        "outputId": "136b474f-5672-40d6-d67f-044e8e502b9c"
      },
      "execution_count": null,
      "outputs": [
        {
          "output_type": "execute_result",
          "data": {
            "text/plain": [
              "['Maaya']"
            ]
          },
          "metadata": {},
          "execution_count": 30
        }
      ]
    },
    {
      "cell_type": "code",
      "source": [
        "lst2.append(\"Happy\")"
      ],
      "metadata": {
        "id": "q3UiDKwz1BYT"
      },
      "execution_count": null,
      "outputs": []
    },
    {
      "cell_type": "code",
      "source": [
        "lst2"
      ],
      "metadata": {
        "colab": {
          "base_uri": "https://localhost:8080/"
        },
        "id": "UJV8q6Te1Eqr",
        "outputId": "03558967-fc89-4821-dabe-99adeb0240d9"
      },
      "execution_count": null,
      "outputs": [
        {
          "output_type": "execute_result",
          "data": {
            "text/plain": [
              "['Maaya', 'Happy']"
            ]
          },
          "metadata": {},
          "execution_count": 32
        }
      ]
    },
    {
      "cell_type": "code",
      "source": [
        "lst2.insert(1, \"Middle\")"
      ],
      "metadata": {
        "id": "FEu9j19f1Fkj"
      },
      "execution_count": null,
      "outputs": []
    },
    {
      "cell_type": "code",
      "source": [
        "lst2"
      ],
      "metadata": {
        "colab": {
          "base_uri": "https://localhost:8080/"
        },
        "id": "eHJtPRhI1I80",
        "outputId": "d3ff7aa2-a86c-456a-e62d-acf32e229173"
      },
      "execution_count": null,
      "outputs": [
        {
          "output_type": "execute_result",
          "data": {
            "text/plain": [
              "['Maaya', 'Middle', 'Happy']"
            ]
          },
          "metadata": {},
          "execution_count": 34
        }
      ]
    },
    {
      "cell_type": "code",
      "source": [
        "lst2.insert(2,[23,3498,\"kd\",\"938w\"])"
      ],
      "metadata": {
        "id": "Gw6nRPvR1Jaw"
      },
      "execution_count": null,
      "outputs": []
    },
    {
      "cell_type": "code",
      "source": [
        "lst2"
      ],
      "metadata": {
        "colab": {
          "base_uri": "https://localhost:8080/"
        },
        "id": "dX4lFliu1z4u",
        "outputId": "ca1cafff-039b-4561-9f84-4e85cf7c8ee9"
      },
      "execution_count": null,
      "outputs": [
        {
          "output_type": "execute_result",
          "data": {
            "text/plain": [
              "['Maaya', 'Middle', [23, 3498, 'kd', '938w'], 'Happy']"
            ]
          },
          "metadata": {},
          "execution_count": 36
        }
      ]
    },
    {
      "cell_type": "markdown",
      "source": [
        "**Extend** : This is used to append list of elements at once. Here it doesn't append as a list at back side rather individual elements only."
      ],
      "metadata": {
        "id": "vTmV2xLm2RD0"
      }
    },
    {
      "cell_type": "code",
      "source": [
        "lst"
      ],
      "metadata": {
        "colab": {
          "base_uri": "https://localhost:8080/"
        },
        "id": "apWvhdAl10YF",
        "outputId": "c990ccb5-5866-4c3b-ffcd-7444d6cb0274"
      },
      "execution_count": null,
      "outputs": [
        {
          "output_type": "execute_result",
          "data": {
            "text/plain": [
              "['Learn', 'withFun', 32, -97, 2049.3]"
            ]
          },
          "metadata": {},
          "execution_count": 37
        }
      ]
    },
    {
      "cell_type": "code",
      "source": [
        "lst.append([1,2])"
      ],
      "metadata": {
        "id": "kxJWbBnA2hnb"
      },
      "execution_count": null,
      "outputs": []
    },
    {
      "cell_type": "code",
      "source": [
        "lst"
      ],
      "metadata": {
        "colab": {
          "base_uri": "https://localhost:8080/"
        },
        "id": "PN2zAc7T2keH",
        "outputId": "403d059b-b86a-4d54-f922-19bdebbe4b7e"
      },
      "execution_count": null,
      "outputs": [
        {
          "output_type": "execute_result",
          "data": {
            "text/plain": [
              "['Learn', 'withFun', 32, -97, 2049.3, [1, 2]]"
            ]
          },
          "metadata": {},
          "execution_count": 39
        }
      ]
    },
    {
      "cell_type": "code",
      "source": [
        "lst.extend([1,2])"
      ],
      "metadata": {
        "id": "DIsUeZTA2lDW"
      },
      "execution_count": null,
      "outputs": []
    },
    {
      "cell_type": "code",
      "source": [
        "lst"
      ],
      "metadata": {
        "colab": {
          "base_uri": "https://localhost:8080/"
        },
        "id": "ohG1xhNp2n6o",
        "outputId": "c05bb4dd-b00a-418b-e1cc-4daa373f90fd"
      },
      "execution_count": null,
      "outputs": [
        {
          "output_type": "execute_result",
          "data": {
            "text/plain": [
              "['Learn', 'withFun', 32, -97, 2049.3, [1, 2], 1, 2]"
            ]
          },
          "metadata": {},
          "execution_count": 41
        }
      ]
    },
    {
      "cell_type": "markdown",
      "source": [
        "#### Various in-built Operations in list"
      ],
      "metadata": {
        "id": "IaUMLfa820f8"
      }
    },
    {
      "cell_type": "code",
      "source": [
        "arr = [1,2,3,4,5]"
      ],
      "metadata": {
        "id": "bsi_TxFY2oY1"
      },
      "execution_count": null,
      "outputs": []
    },
    {
      "cell_type": "code",
      "source": [
        "sum(arr)"
      ],
      "metadata": {
        "colab": {
          "base_uri": "https://localhost:8080/"
        },
        "id": "PNPsdwjN3Cmw",
        "outputId": "4e25c1f9-62df-4835-cdfd-a999d8b0d94b"
      },
      "execution_count": null,
      "outputs": [
        {
          "output_type": "execute_result",
          "data": {
            "text/plain": [
              "15"
            ]
          },
          "metadata": {},
          "execution_count": 43
        }
      ]
    },
    {
      "cell_type": "markdown",
      "source": [
        "**pop()** :\n",
        "  - removes las ele as default.\n",
        "  - if specified index in the brakects then the specified index"
      ],
      "metadata": {
        "id": "8mJVJYlp3iau"
      }
    },
    {
      "cell_type": "code",
      "source": [
        "lst"
      ],
      "metadata": {
        "colab": {
          "base_uri": "https://localhost:8080/"
        },
        "id": "KiJRQrBF3Dce",
        "outputId": "629f317e-0cce-4c11-e0d6-cb71b3611589"
      },
      "execution_count": null,
      "outputs": [
        {
          "output_type": "execute_result",
          "data": {
            "text/plain": [
              "['Learn', 'withFun', 32, -97, 2049.3, [1, 2], 1, 2]"
            ]
          },
          "metadata": {},
          "execution_count": 44
        }
      ]
    },
    {
      "cell_type": "code",
      "source": [
        "lst.pop()"
      ],
      "metadata": {
        "colab": {
          "base_uri": "https://localhost:8080/"
        },
        "id": "SX4DrUFt3u3G",
        "outputId": "b6de35f7-4831-434b-87b7-68788db5ce66"
      },
      "execution_count": null,
      "outputs": [
        {
          "output_type": "execute_result",
          "data": {
            "text/plain": [
              "2"
            ]
          },
          "metadata": {},
          "execution_count": 45
        }
      ]
    },
    {
      "cell_type": "code",
      "source": [
        "lst"
      ],
      "metadata": {
        "colab": {
          "base_uri": "https://localhost:8080/"
        },
        "id": "wJNmG30U3wYO",
        "outputId": "1cb041fd-d37e-49e8-a2db-cfa7fe614de3"
      },
      "execution_count": null,
      "outputs": [
        {
          "output_type": "execute_result",
          "data": {
            "text/plain": [
              "['Learn', 'withFun', 32, -97, 2049.3, [1, 2], 1]"
            ]
          },
          "metadata": {},
          "execution_count": 46
        }
      ]
    },
    {
      "cell_type": "code",
      "source": [
        "lst.pop(len(lst)-2)"
      ],
      "metadata": {
        "colab": {
          "base_uri": "https://localhost:8080/"
        },
        "id": "jgVEgFmw3xOn",
        "outputId": "e55cb539-a9d7-4c26-aac3-20b36f6c0a44"
      },
      "execution_count": null,
      "outputs": [
        {
          "output_type": "execute_result",
          "data": {
            "text/plain": [
              "[1, 2]"
            ]
          },
          "metadata": {},
          "execution_count": 47
        }
      ]
    },
    {
      "cell_type": "code",
      "source": [
        "lst"
      ],
      "metadata": {
        "colab": {
          "base_uri": "https://localhost:8080/"
        },
        "id": "Eoci0yFT30ve",
        "outputId": "1ee501b5-9633-4604-f635-278948d514e9"
      },
      "execution_count": null,
      "outputs": [
        {
          "output_type": "execute_result",
          "data": {
            "text/plain": [
              "['Learn', 'withFun', 32, -97, 2049.3, 1]"
            ]
          },
          "metadata": {},
          "execution_count": 48
        }
      ]
    },
    {
      "cell_type": "markdown",
      "source": [
        "**count(element)**\n",
        "  - Gives the frequency of specified element."
      ],
      "metadata": {
        "id": "ZHk9G6R538Hi"
      }
    },
    {
      "cell_type": "code",
      "source": [
        "arr = [1,3,1,54,1,2,5,7,9,3]"
      ],
      "metadata": {
        "id": "Uur8KqHj31cW"
      },
      "execution_count": null,
      "outputs": []
    },
    {
      "cell_type": "code",
      "source": [
        "arr.count(1)"
      ],
      "metadata": {
        "colab": {
          "base_uri": "https://localhost:8080/"
        },
        "id": "RXvbIG3U4Jd_",
        "outputId": "b1cbb2f3-5f92-43bc-ccbd-793b658b877a"
      },
      "execution_count": null,
      "outputs": [
        {
          "output_type": "execute_result",
          "data": {
            "text/plain": [
              "3"
            ]
          },
          "metadata": {},
          "execution_count": 50
        }
      ]
    },
    {
      "cell_type": "code",
      "source": [
        "arr.count(3)"
      ],
      "metadata": {
        "colab": {
          "base_uri": "https://localhost:8080/"
        },
        "id": "fL4COp_V4K0D",
        "outputId": "3c27197c-e29b-4ae6-8933-5018591e7d5a"
      },
      "execution_count": null,
      "outputs": [
        {
          "output_type": "execute_result",
          "data": {
            "text/plain": [
              "2"
            ]
          },
          "metadata": {},
          "execution_count": 51
        }
      ]
    },
    {
      "cell_type": "markdown",
      "source": [
        "**index(ele/value, start idx, end idx)** : gives the first occurance of the specified value\n",
        "  - start and end indexes are not mandatory"
      ],
      "metadata": {
        "id": "6bcW8kKO4qNc"
      }
    },
    {
      "cell_type": "code",
      "source": [
        "arr.index(1)"
      ],
      "metadata": {
        "colab": {
          "base_uri": "https://localhost:8080/"
        },
        "id": "W1kkFQJM4Ms3",
        "outputId": "d6d70e18-c259-4c78-8272-a51b80795ccf"
      },
      "execution_count": null,
      "outputs": [
        {
          "output_type": "execute_result",
          "data": {
            "text/plain": [
              "0"
            ]
          },
          "metadata": {},
          "execution_count": 52
        }
      ]
    },
    {
      "cell_type": "code",
      "source": [
        "arr.index(1,1,len(arr))"
      ],
      "metadata": {
        "colab": {
          "base_uri": "https://localhost:8080/"
        },
        "id": "Je29ld6I5R4s",
        "outputId": "529c285c-1812-477c-c161-3f66a20ab7e8"
      },
      "execution_count": null,
      "outputs": [
        {
          "output_type": "execute_result",
          "data": {
            "text/plain": [
              "2"
            ]
          },
          "metadata": {},
          "execution_count": 53
        }
      ]
    },
    {
      "cell_type": "code",
      "source": [
        "min(arr)"
      ],
      "metadata": {
        "colab": {
          "base_uri": "https://localhost:8080/"
        },
        "id": "yAaQmiu-5WMb",
        "outputId": "9c8cd7d4-1bed-440f-8fdd-5a4c6b49fac6"
      },
      "execution_count": null,
      "outputs": [
        {
          "output_type": "execute_result",
          "data": {
            "text/plain": [
              "1"
            ]
          },
          "metadata": {},
          "execution_count": 54
        }
      ]
    },
    {
      "cell_type": "code",
      "source": [
        "max(arr)"
      ],
      "metadata": {
        "colab": {
          "base_uri": "https://localhost:8080/"
        },
        "id": "y2oFt3hv5os2",
        "outputId": "11ca76cf-b43f-4266-b51e-55f19e63e8ed"
      },
      "execution_count": null,
      "outputs": [
        {
          "output_type": "execute_result",
          "data": {
            "text/plain": [
              "54"
            ]
          },
          "metadata": {},
          "execution_count": 56
        }
      ]
    },
    {
      "cell_type": "markdown",
      "source": [
        "#### Miscellaneous"
      ],
      "metadata": {
        "id": "yU13BVCh59BX"
      }
    },
    {
      "cell_type": "code",
      "source": [
        "arr * 2 #just prints the list extended that many times"
      ],
      "metadata": {
        "colab": {
          "base_uri": "https://localhost:8080/"
        },
        "id": "VrFMT_M85pfS",
        "outputId": "1244d8d2-1dcf-40fe-d818-22d12396b456"
      },
      "execution_count": null,
      "outputs": [
        {
          "output_type": "execute_result",
          "data": {
            "text/plain": [
              "[1, 3, 1, 54, 1, 2, 5, 7, 9, 3, 1, 3, 1, 54, 1, 2, 5, 7, 9, 3]"
            ]
          },
          "metadata": {},
          "execution_count": 57
        }
      ]
    },
    {
      "cell_type": "markdown",
      "source": [
        "## SETS\n",
        "\n",
        "  - a set is an unordered collection of unique elements. It is defined using curly braces {}\n",
        "  - Sets do not allow duplicate elements, and they are mutable, meaning you can add or remove elements from them.\n",
        "  \n",
        "Key characteristics :\n",
        "  1. Uniqueness\n",
        "  2. Unordered\n",
        "  3. Mutable\n",
        "  4. Support for Mathematical Operations - such as union, intersection, difference, and symmetric difference."
      ],
      "metadata": {
        "id": "aL3Zqt_s6uPH"
      }
    },
    {
      "cell_type": "code",
      "source": [
        "#creation of set\n",
        "st = set()\n",
        "print(st)\n",
        "print(type(st))"
      ],
      "metadata": {
        "id": "1TTTr3sM6PD9",
        "colab": {
          "base_uri": "https://localhost:8080/"
        },
        "outputId": "f6dacbbd-5766-44b5-8b7f-9af703eb753e"
      },
      "execution_count": null,
      "outputs": [
        {
          "output_type": "stream",
          "name": "stdout",
          "text": [
            "set()\n",
            "<class 'set'>\n"
          ]
        }
      ]
    },
    {
      "cell_type": "code",
      "source": [
        "st = {1,3,5,7,9,1,1,3,7,8}\n",
        "st"
      ],
      "metadata": {
        "colab": {
          "base_uri": "https://localhost:8080/"
        },
        "id": "8mBNO2hXs0ai",
        "outputId": "27463eb5-0d86-43d7-afc7-f8328f73bdc6"
      },
      "execution_count": null,
      "outputs": [
        {
          "output_type": "execute_result",
          "data": {
            "text/plain": [
              "{1, 3, 5, 7, 8, 9}"
            ]
          },
          "metadata": {},
          "execution_count": 2
        }
      ]
    },
    {
      "cell_type": "code",
      "source": [
        "#there is no indexing in set\n",
        "st[1]"
      ],
      "metadata": {
        "colab": {
          "base_uri": "https://localhost:8080/",
          "height": 164
        },
        "id": "Tk8VQqGutLot",
        "outputId": "18a7c4a9-1a82-49c8-c9bf-cfb92e344f0f"
      },
      "execution_count": null,
      "outputs": [
        {
          "output_type": "error",
          "ename": "TypeError",
          "evalue": "'set' object is not subscriptable",
          "traceback": [
            "\u001b[0;31m---------------------------------------------------------------------------\u001b[0m",
            "\u001b[0;31mTypeError\u001b[0m                                 Traceback (most recent call last)",
            "\u001b[0;32m<ipython-input-3-6cced5fb403d>\u001b[0m in \u001b[0;36m<cell line: 2>\u001b[0;34m()\u001b[0m\n\u001b[1;32m      1\u001b[0m \u001b[0;31m#there is no indexing in set\u001b[0m\u001b[0;34m\u001b[0m\u001b[0;34m\u001b[0m\u001b[0m\n\u001b[0;32m----> 2\u001b[0;31m \u001b[0mst\u001b[0m\u001b[0;34m[\u001b[0m\u001b[0;36m1\u001b[0m\u001b[0;34m]\u001b[0m\u001b[0;34m\u001b[0m\u001b[0;34m\u001b[0m\u001b[0m\n\u001b[0m",
            "\u001b[0;31mTypeError\u001b[0m: 'set' object is not subscriptable"
          ]
        }
      ]
    },
    {
      "cell_type": "markdown",
      "source": [
        "**set in-built** functions"
      ],
      "metadata": {
        "id": "UxjciHXlt9b1"
      }
    },
    {
      "cell_type": "code",
      "source": [
        "# addition of elements into set\n",
        "st.add(\"Added\")"
      ],
      "metadata": {
        "id": "pYCDKiNgtd20"
      },
      "execution_count": null,
      "outputs": []
    },
    {
      "cell_type": "code",
      "source": [
        "st"
      ],
      "metadata": {
        "colab": {
          "base_uri": "https://localhost:8080/"
        },
        "id": "DkNd_ERyto-i",
        "outputId": "4f892977-6aca-4c90-ce22-e7ffee12c96a"
      },
      "execution_count": null,
      "outputs": [
        {
          "output_type": "execute_result",
          "data": {
            "text/plain": [
              "{1, 3, 5, 7, 8, 9, 'Added'}"
            ]
          },
          "metadata": {},
          "execution_count": 5
        }
      ]
    },
    {
      "cell_type": "code",
      "source": [
        "# difference b/w sets\n",
        "st1 = {\"An\", \"Bk\", \"Md\"}\n",
        "st2 = {\"An\", \"Bk\", \"Md\", \"Mt\"}"
      ],
      "metadata": {
        "id": "x1DRA-3Rtpie"
      },
      "execution_count": null,
      "outputs": []
    },
    {
      "cell_type": "code",
      "source": [
        "st2.difference(st1) #st2 - st1"
      ],
      "metadata": {
        "colab": {
          "base_uri": "https://localhost:8080/"
        },
        "id": "FfR8Ghi0uO7G",
        "outputId": "a2d02696-ee94-41f6-c3d4-3ff92004748f"
      },
      "execution_count": null,
      "outputs": [
        {
          "output_type": "execute_result",
          "data": {
            "text/plain": [
              "{'Mt'}"
            ]
          },
          "metadata": {},
          "execution_count": 7
        }
      ]
    },
    {
      "cell_type": "code",
      "source": [
        "st1.difference(st2) #st1 - st2"
      ],
      "metadata": {
        "colab": {
          "base_uri": "https://localhost:8080/"
        },
        "id": "YxhmDKvmuRWh",
        "outputId": "be796ea1-f314-46df-d1ca-68982161cac4"
      },
      "execution_count": null,
      "outputs": [
        {
          "output_type": "execute_result",
          "data": {
            "text/plain": [
              "set()"
            ]
          },
          "metadata": {},
          "execution_count": 8
        }
      ]
    },
    {
      "cell_type": "code",
      "source": [
        "#difference update - used to update the set from which difference is done\n",
        "st2.difference_update(st1)"
      ],
      "metadata": {
        "id": "adbfMVnkuT7e"
      },
      "execution_count": null,
      "outputs": []
    },
    {
      "cell_type": "code",
      "source": [
        "print(st2)"
      ],
      "metadata": {
        "colab": {
          "base_uri": "https://localhost:8080/"
        },
        "id": "QSCmIdZfuyN4",
        "outputId": "63bf908f-0fb2-440c-c940-5f9ca313d34a"
      },
      "execution_count": null,
      "outputs": [
        {
          "output_type": "stream",
          "name": "stdout",
          "text": [
            "{'Mt'}\n"
          ]
        }
      ]
    },
    {
      "cell_type": "code",
      "source": [
        "#intersection\n",
        "st2.intersection(st1)"
      ],
      "metadata": {
        "colab": {
          "base_uri": "https://localhost:8080/"
        },
        "id": "UW5CsjCcuz5z",
        "outputId": "d675fbfb-9ec8-4b91-e1ac-b898c964ced8"
      },
      "execution_count": null,
      "outputs": [
        {
          "output_type": "execute_result",
          "data": {
            "text/plain": [
              "set()"
            ]
          },
          "metadata": {},
          "execution_count": 11
        }
      ]
    },
    {
      "cell_type": "code",
      "source": [
        "#intersection_update same as difference_update"
      ],
      "metadata": {
        "id": "0m8K_8K0u46N"
      },
      "execution_count": null,
      "outputs": []
    },
    {
      "cell_type": "markdown",
      "source": [
        "## Dictionary\n",
        "\n",
        "In Python, a dictionary is an unordered collection of key-value pairs enclosed in curly braces {}, allowing for efficient data storage and retrieval using unique keys."
      ],
      "metadata": {
        "id": "y05e7OQXXsfS"
      }
    },
    {
      "cell_type": "code",
      "source": [
        "dic = {}"
      ],
      "metadata": {
        "id": "udmUcQ65vMAt"
      },
      "execution_count": 1,
      "outputs": []
    },
    {
      "cell_type": "code",
      "source": [
        "type(dic)"
      ],
      "metadata": {
        "colab": {
          "base_uri": "https://localhost:8080/"
        },
        "id": "c8cCEzAvuM-0",
        "outputId": "8970229a-389e-4f02-98f4-bb4a9a07d6e9"
      },
      "execution_count": 2,
      "outputs": [
        {
          "output_type": "execute_result",
          "data": {
            "text/plain": [
              "dict"
            ]
          },
          "metadata": {},
          "execution_count": 2
        }
      ]
    },
    {
      "cell_type": "code",
      "source": [
        "# You can also use dict() to define dictionary\n",
        "type(dict())"
      ],
      "metadata": {
        "colab": {
          "base_uri": "https://localhost:8080/"
        },
        "id": "X6-LK_qeuOgx",
        "outputId": "b0baa4d0-60f2-4316-df85-9344710ce6db"
      },
      "execution_count": 3,
      "outputs": [
        {
          "output_type": "execute_result",
          "data": {
            "text/plain": [
              "dict"
            ]
          },
          "metadata": {},
          "execution_count": 3
        }
      ]
    },
    {
      "cell_type": "code",
      "source": [
        "my_dic = {\"car1\":\"Creta\", \"car2\": \"Benz\", \"car3\": \"Jaguar\",\"car4\":\"Bugati\"}"
      ],
      "metadata": {
        "id": "ZcIQU502uco-"
      },
      "execution_count": 4,
      "outputs": []
    },
    {
      "cell_type": "code",
      "source": [
        "# it is indexible\n",
        "my_dic[\"car4\"]"
      ],
      "metadata": {
        "colab": {
          "base_uri": "https://localhost:8080/",
          "height": 36
        },
        "id": "wXn77bf_urez",
        "outputId": "52c12296-5bbf-4429-cb08-93c8171e175b"
      },
      "execution_count": 5,
      "outputs": [
        {
          "output_type": "execute_result",
          "data": {
            "text/plain": [
              "'Bugati'"
            ],
            "application/vnd.google.colaboratory.intrinsic+json": {
              "type": "string"
            }
          },
          "metadata": {},
          "execution_count": 5
        }
      ]
    },
    {
      "cell_type": "code",
      "source": [
        "# accessing all the keys in the dictionary\n",
        "for x in my_dic:\n",
        "  print(x)"
      ],
      "metadata": {
        "colab": {
          "base_uri": "https://localhost:8080/"
        },
        "id": "NkivTdoruzpt",
        "outputId": "996c0e40-8505-4d98-e8bc-39ad2f13811d"
      },
      "execution_count": 6,
      "outputs": [
        {
          "output_type": "stream",
          "name": "stdout",
          "text": [
            "car1\n",
            "car2\n",
            "car3\n",
            "car4\n"
          ]
        }
      ]
    },
    {
      "cell_type": "code",
      "source": [
        "# accessing only the values in dictionary\n",
        "for ele in my_dic.values():\n",
        "  print(ele)"
      ],
      "metadata": {
        "colab": {
          "base_uri": "https://localhost:8080/"
        },
        "id": "tii2juOHvI7d",
        "outputId": "567f1bfd-d265-4590-ba0e-dacf41c0387c"
      },
      "execution_count": 7,
      "outputs": [
        {
          "output_type": "stream",
          "name": "stdout",
          "text": [
            "Creta\n",
            "Benz\n",
            "Jaguar\n",
            "Bugati\n"
          ]
        }
      ]
    },
    {
      "cell_type": "code",
      "source": [
        "# accessing both keys and values in the dictionary\n",
        "for vals in my_dic.items():\n",
        "  print(vals)"
      ],
      "metadata": {
        "colab": {
          "base_uri": "https://localhost:8080/"
        },
        "id": "TOvDnGFPvRcH",
        "outputId": "7e3b725b-7d16-4fb4-db78-5539f6058c2d"
      },
      "execution_count": 9,
      "outputs": [
        {
          "output_type": "stream",
          "name": "stdout",
          "text": [
            "('car1', 'Creta')\n",
            "('car2', 'Benz')\n",
            "('car3', 'Jaguar')\n",
            "('car4', 'Bugati')\n"
          ]
        }
      ]
    },
    {
      "cell_type": "code",
      "source": [
        "# adding new element into the dictionary\n",
        "my_dic[\"car5\"] = \"Ferrari Purosangue\""
      ],
      "metadata": {
        "id": "ZjVb87X97lqv"
      },
      "execution_count": 10,
      "outputs": []
    },
    {
      "cell_type": "code",
      "source": [
        "my_dic"
      ],
      "metadata": {
        "colab": {
          "base_uri": "https://localhost:8080/"
        },
        "id": "QSPNkGyr8B9Y",
        "outputId": "ffd57551-9f9d-43dc-c637-e1dbb13afbc2"
      },
      "execution_count": 11,
      "outputs": [
        {
          "output_type": "execute_result",
          "data": {
            "text/plain": [
              "{'car1': 'Creta',\n",
              " 'car2': 'Benz',\n",
              " 'car3': 'Jaguar',\n",
              " 'car4': 'Bugati',\n",
              " 'car5': 'Ferrari Purosangue'}"
            ]
          },
          "metadata": {},
          "execution_count": 11
        }
      ]
    },
    {
      "cell_type": "code",
      "source": [
        "# you can update the value in the dictionary by accesing thriugh already present key and update\n",
        "my_dic[\"car3\"] = \"Porsche\""
      ],
      "metadata": {
        "id": "1SDGqdn38DBJ"
      },
      "execution_count": 12,
      "outputs": []
    },
    {
      "cell_type": "code",
      "source": [
        "my_dic"
      ],
      "metadata": {
        "colab": {
          "base_uri": "https://localhost:8080/"
        },
        "id": "jjyQfzgC8gLV",
        "outputId": "e8d873b1-c4fd-48ac-dfd7-59e6b08a9b3a"
      },
      "execution_count": 13,
      "outputs": [
        {
          "output_type": "execute_result",
          "data": {
            "text/plain": [
              "{'car1': 'Creta',\n",
              " 'car2': 'Benz',\n",
              " 'car3': 'Porsche',\n",
              " 'car4': 'Bugati',\n",
              " 'car5': 'Ferrari Purosangue'}"
            ]
          },
          "metadata": {},
          "execution_count": 13
        }
      ]
    },
    {
      "cell_type": "markdown",
      "source": [
        "## Nested Dictionary"
      ],
      "metadata": {
        "id": "3iZ3SK4O9GEZ"
      }
    },
    {
      "cell_type": "code",
      "source": [
        "car1_model = {\"Creta\": 2020}\n",
        "car2_model = {\"Benz\": \"AMG SL\"}\n",
        "car3_model = {\"Porsche\":\"911 Turbo S Cabriolet\"}\n",
        "car4_model = {\"Bugati\":\"Chiron\"}\n",
        "car5_model = {\"Ferrari\":\"Purosangue\"}\n",
        "\n",
        "car_type = {\"car1\":car1_model, \"car2\":car2_model,\"car3\":car3_model,\"car4\":car4_model,\"car5\":car5_model}"
      ],
      "metadata": {
        "id": "PVF5O-Rx8g9w"
      },
      "execution_count": 15,
      "outputs": []
    },
    {
      "cell_type": "code",
      "source": [
        "print(car_type)"
      ],
      "metadata": {
        "colab": {
          "base_uri": "https://localhost:8080/"
        },
        "id": "hSDZyVwb-tY2",
        "outputId": "9d34f6f7-d36c-41a8-86b3-76e45247672e"
      },
      "execution_count": 16,
      "outputs": [
        {
          "output_type": "stream",
          "name": "stdout",
          "text": [
            "{'car1': {'Creta': 2020}, 'car2': {'Benz': 'AMG SL'}, 'car3': {'Porsche': '911 Turbo S Cabriolet'}, 'car4': {'Bugati': 'Chiron'}, 'car5': {'Ferrari': 'Purosangue'}}\n"
          ]
        }
      ]
    },
    {
      "cell_type": "code",
      "source": [
        "print(car_type['car5'])"
      ],
      "metadata": {
        "colab": {
          "base_uri": "https://localhost:8080/"
        },
        "id": "oDTi4QEA-_G_",
        "outputId": "666a0e28-668a-47b5-9fab-a25dad39583f"
      },
      "execution_count": 18,
      "outputs": [
        {
          "output_type": "stream",
          "name": "stdout",
          "text": [
            "{'Ferrari': 'Purosangue'}\n"
          ]
        }
      ]
    },
    {
      "cell_type": "code",
      "source": [
        "print(car_type[\"car5\"][\"Ferrari\"])"
      ],
      "metadata": {
        "colab": {
          "base_uri": "https://localhost:8080/"
        },
        "id": "yh3SPVZe_JOV",
        "outputId": "2f7e311c-4a71-4c53-e754-e689a1b56772"
      },
      "execution_count": 22,
      "outputs": [
        {
          "output_type": "stream",
          "name": "stdout",
          "text": [
            "Purosangue\n"
          ]
        }
      ]
    },
    {
      "cell_type": "markdown",
      "source": [
        "## Tuple\n",
        "\n",
        "Tuples in Python are immutable ordered sequences of elements enclosed in parentheses ()"
      ],
      "metadata": {
        "id": "kjd7uUyS_9j-"
      }
    },
    {
      "cell_type": "code",
      "source": [
        "my_tuple = tuple()"
      ],
      "metadata": {
        "id": "DcvHZXlo_SSV"
      },
      "execution_count": 23,
      "outputs": []
    },
    {
      "cell_type": "code",
      "source": [
        "type(my_tuple)"
      ],
      "metadata": {
        "colab": {
          "base_uri": "https://localhost:8080/"
        },
        "id": "xapvzOIwAY8X",
        "outputId": "8f4a66ad-4718-4e69-9ac1-349f552c7b46"
      },
      "execution_count": 24,
      "outputs": [
        {
          "output_type": "execute_result",
          "data": {
            "text/plain": [
              "tuple"
            ]
          },
          "metadata": {},
          "execution_count": 24
        }
      ]
    },
    {
      "cell_type": "code",
      "source": [
        "tup = ()"
      ],
      "metadata": {
        "id": "NF9YezwJAabb"
      },
      "execution_count": 25,
      "outputs": []
    },
    {
      "cell_type": "code",
      "source": [
        "type(tup)"
      ],
      "metadata": {
        "colab": {
          "base_uri": "https://localhost:8080/"
        },
        "id": "XRZjueTnAf6L",
        "outputId": "72ec11f1-83f0-4256-c792-d3f6dc2adcd1"
      },
      "execution_count": 26,
      "outputs": [
        {
          "output_type": "execute_result",
          "data": {
            "text/plain": [
              "tuple"
            ]
          },
          "metadata": {},
          "execution_count": 26
        }
      ]
    },
    {
      "cell_type": "code",
      "source": [
        "my_tuple = (\"Mad\", \"Mutant\", \"Rebuilt\", \"Exponent\")"
      ],
      "metadata": {
        "id": "Mpg2jA8XAg8c"
      },
      "execution_count": 27,
      "outputs": []
    },
    {
      "cell_type": "code",
      "source": [
        "print(type(my_tuple))\n",
        "print(my_tuple)"
      ],
      "metadata": {
        "colab": {
          "base_uri": "https://localhost:8080/"
        },
        "id": "SVFmtDumBMXF",
        "outputId": "148851db-d0d3-42a8-a9b4-de707c5f1f6b"
      },
      "execution_count": 28,
      "outputs": [
        {
          "output_type": "stream",
          "name": "stdout",
          "text": [
            "<class 'tuple'>\n",
            "('Mad', 'Mutant', 'Rebuilt', 'Exponent')\n"
          ]
        }
      ]
    },
    {
      "cell_type": "code",
      "source": [
        "my_tuple[1]"
      ],
      "metadata": {
        "colab": {
          "base_uri": "https://localhost:8080/",
          "height": 36
        },
        "id": "ZKVF4foqBRU0",
        "outputId": "9d2f35c4-4f3c-4aa2-e781-41491c91a9b6"
      },
      "execution_count": 29,
      "outputs": [
        {
          "output_type": "execute_result",
          "data": {
            "text/plain": [
              "'Mutant'"
            ],
            "application/vnd.google.colaboratory.intrinsic+json": {
              "type": "string"
            }
          },
          "metadata": {},
          "execution_count": 29
        }
      ]
    },
    {
      "cell_type": "code",
      "source": [
        "my_tuple[0] = \"This won't be changed\""
      ],
      "metadata": {
        "colab": {
          "base_uri": "https://localhost:8080/",
          "height": 146
        },
        "id": "AMzdZQhEBYMe",
        "outputId": "3a4ffdb6-90d9-4d83-c74a-107c4c75450c"
      },
      "execution_count": 30,
      "outputs": [
        {
          "output_type": "error",
          "ename": "TypeError",
          "evalue": "'tuple' object does not support item assignment",
          "traceback": [
            "\u001b[0;31m---------------------------------------------------------------------------\u001b[0m",
            "\u001b[0;31mTypeError\u001b[0m                                 Traceback (most recent call last)",
            "\u001b[0;32m<ipython-input-30-79804e85152c>\u001b[0m in \u001b[0;36m<cell line: 1>\u001b[0;34m()\u001b[0m\n\u001b[0;32m----> 1\u001b[0;31m \u001b[0mmy_tuple\u001b[0m\u001b[0;34m[\u001b[0m\u001b[0;36m0\u001b[0m\u001b[0;34m]\u001b[0m \u001b[0;34m=\u001b[0m \u001b[0;34m\"This won't be changed\"\u001b[0m\u001b[0;34m\u001b[0m\u001b[0;34m\u001b[0m\u001b[0m\n\u001b[0m",
            "\u001b[0;31mTypeError\u001b[0m: 'tuple' object does not support item assignment"
          ]
        }
      ]
    },
    {
      "cell_type": "code",
      "source": [
        "my_tuple.count(\"Mad\")"
      ],
      "metadata": {
        "colab": {
          "base_uri": "https://localhost:8080/"
        },
        "id": "I88DHMAfBnXM",
        "outputId": "019119ce-13a0-4d6d-d85d-784185ee8d6d"
      },
      "execution_count": 31,
      "outputs": [
        {
          "output_type": "execute_result",
          "data": {
            "text/plain": [
              "1"
            ]
          },
          "metadata": {},
          "execution_count": 31
        }
      ]
    },
    {
      "cell_type": "code",
      "source": [
        "my_tuple.count(\"mad\")"
      ],
      "metadata": {
        "colab": {
          "base_uri": "https://localhost:8080/"
        },
        "id": "2glOEJ9GBt-N",
        "outputId": "50bbe971-0f72-4308-f589-f9b2ccac4e6f"
      },
      "execution_count": 32,
      "outputs": [
        {
          "output_type": "execute_result",
          "data": {
            "text/plain": [
              "0"
            ]
          },
          "metadata": {},
          "execution_count": 32
        }
      ]
    },
    {
      "cell_type": "code",
      "source": [
        "my_tuple.index(\"Rebuilt\")"
      ],
      "metadata": {
        "colab": {
          "base_uri": "https://localhost:8080/"
        },
        "id": "kaqBiwvTBxD7",
        "outputId": "6cac78ae-fea7-4860-f416-0e7abdfa265f"
      },
      "execution_count": 34,
      "outputs": [
        {
          "output_type": "execute_result",
          "data": {
            "text/plain": [
              "2"
            ]
          },
          "metadata": {},
          "execution_count": 34
        }
      ]
    }
  ]
}