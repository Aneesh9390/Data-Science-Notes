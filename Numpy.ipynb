{
  "nbformat": 4,
  "nbformat_minor": 0,
  "metadata": {
    "colab": {
      "provenance": [],
      "authorship_tag": "ABX9TyNx6KslNwfs0nQ0YL9RSuDl",
      "include_colab_link": true
    },
    "kernelspec": {
      "name": "python3",
      "display_name": "Python 3"
    },
    "language_info": {
      "name": "python"
    }
  },
  "cells": [
    {
      "cell_type": "markdown",
      "metadata": {
        "id": "view-in-github",
        "colab_type": "text"
      },
      "source": [
        "<a href=\"https://colab.research.google.com/github/Aneesh9390/Data-Science-Notes/blob/main/Numpy.ipynb\" target=\"_parent\"><img src=\"https://colab.research.google.com/assets/colab-badge.svg\" alt=\"Open In Colab\"/></a>"
      ]
    },
    {
      "cell_type": "markdown",
      "source": [
        "## Numpy\n",
        "\n",
        "NumPy, short for Numerical Python, is a fundamental library for scientific computing in Python. It provides efficient multidimensional arrays and tools for manipulating them, offering significant speed and memory benefits over built-in Python lists. NumPy also enables advanced mathematical operations, linear algebra functions, and integration with other scientific Python libraries, making it crucial for data science, machine learning, and various scientific fields."
      ],
      "metadata": {
        "id": "Q3htGO_IO-Fn"
      }
    },
    {
      "cell_type": "code",
      "execution_count": null,
      "metadata": {
        "id": "-cYcu9cxKQQc"
      },
      "outputs": [],
      "source": [
        "# If you never installed numpy (or) it is not present in your interpretor then execute the below code\n",
        "!pip install numpy -q"
      ]
    },
    {
      "cell_type": "code",
      "source": [
        "import numpy as np"
      ],
      "metadata": {
        "id": "scimkAYZmAxl"
      },
      "execution_count": null,
      "outputs": []
    },
    {
      "cell_type": "markdown",
      "source": [
        "**Array** : array contains only the elements of same data type through out.\n",
        "\n",
        "whereas list contains multi elements of different data types.\n"
      ],
      "metadata": {
        "id": "ToCjaAjJo_iu"
      }
    },
    {
      "cell_type": "code",
      "source": [
        "my_list = [1,2,3,4,5]\n",
        "\n",
        "arr = np.array(my_list)"
      ],
      "metadata": {
        "id": "CEEQhFKysQ-O"
      },
      "execution_count": null,
      "outputs": []
    },
    {
      "cell_type": "code",
      "source": [
        "type(arr)"
      ],
      "metadata": {
        "id": "C03ZzdRzKoLc",
        "colab": {
          "base_uri": "https://localhost:8080/"
        },
        "outputId": "19591a7b-6f64-43a3-f235-012f58076216"
      },
      "execution_count": null,
      "outputs": [
        {
          "output_type": "execute_result",
          "data": {
            "text/plain": [
              "numpy.ndarray"
            ]
          },
          "metadata": {},
          "execution_count": 4
        }
      ]
    },
    {
      "cell_type": "code",
      "source": [
        "print(\"List : \", my_list)\n",
        "print(\"Array : \",arr)"
      ],
      "metadata": {
        "colab": {
          "base_uri": "https://localhost:8080/"
        },
        "id": "4sVqOacfswSG",
        "outputId": "aa350597-b1bc-41ce-935f-77d3450db91d"
      },
      "execution_count": null,
      "outputs": [
        {
          "output_type": "stream",
          "name": "stdout",
          "text": [
            "List :  [1, 2, 3, 4, 5]\n",
            "Array :  [1 2 3 4 5]\n"
          ]
        }
      ]
    },
    {
      "cell_type": "code",
      "source": [
        "my_list"
      ],
      "metadata": {
        "colab": {
          "base_uri": "https://localhost:8080/"
        },
        "id": "PK8HVe96s0YS",
        "outputId": "d8fc82c9-4357-48c0-8a26-015a38b1875b"
      },
      "execution_count": null,
      "outputs": [
        {
          "output_type": "execute_result",
          "data": {
            "text/plain": [
              "[1, 2, 3, 4, 5]"
            ]
          },
          "metadata": {},
          "execution_count": 6
        }
      ]
    },
    {
      "cell_type": "code",
      "source": [
        "arr"
      ],
      "metadata": {
        "colab": {
          "base_uri": "https://localhost:8080/"
        },
        "id": "r_z6S78PtFpK",
        "outputId": "5046b492-395e-458a-9f09-ea656cdb4b9e"
      },
      "execution_count": null,
      "outputs": [
        {
          "output_type": "execute_result",
          "data": {
            "text/plain": [
              "array([1, 2, 3, 4, 5])"
            ]
          },
          "metadata": {},
          "execution_count": 7
        }
      ]
    },
    {
      "cell_type": "code",
      "source": [
        "arr.shape"
      ],
      "metadata": {
        "id": "ESsSbl7xtML7",
        "colab": {
          "base_uri": "https://localhost:8080/"
        },
        "outputId": "e7e547b8-c2dc-4cc3-db33-7912b009f334"
      },
      "execution_count": null,
      "outputs": [
        {
          "output_type": "execute_result",
          "data": {
            "text/plain": [
              "(5,)"
            ]
          },
          "metadata": {},
          "execution_count": 8
        }
      ]
    },
    {
      "cell_type": "code",
      "source": [
        "lst_1 = [1,2,3,4,5]\n",
        "lst_2 = [5,4,3,2,1]\n",
        "lst_3 = [6,7,8,9,10]\n",
        "lst_4 = [10,9,8,7,6]"
      ],
      "metadata": {
        "id": "wS_em4BmufrU"
      },
      "execution_count": null,
      "outputs": []
    },
    {
      "cell_type": "code",
      "source": [
        "comb_arr = np.array([lst_1,lst_2,lst_3,lst_4])\n",
        "comb_arr"
      ],
      "metadata": {
        "colab": {
          "base_uri": "https://localhost:8080/"
        },
        "id": "H9GdmBVfvAIT",
        "outputId": "bdb84980-38af-44ea-a625-f549d77bdaaf"
      },
      "execution_count": null,
      "outputs": [
        {
          "output_type": "execute_result",
          "data": {
            "text/plain": [
              "array([[ 1,  2,  3,  4,  5],\n",
              "       [ 5,  4,  3,  2,  1],\n",
              "       [ 6,  7,  8,  9, 10],\n",
              "       [10,  9,  8,  7,  6]])"
            ]
          },
          "metadata": {},
          "execution_count": 41
        }
      ]
    },
    {
      "cell_type": "code",
      "source": [
        "comb_arr.shape"
      ],
      "metadata": {
        "colab": {
          "base_uri": "https://localhost:8080/"
        },
        "id": "jpQYIpB8vHFo",
        "outputId": "33e83be7-e0bf-40a8-9f70-f6560b46e460"
      },
      "execution_count": null,
      "outputs": [
        {
          "output_type": "execute_result",
          "data": {
            "text/plain": [
              "(4, 5)"
            ]
          },
          "metadata": {},
          "execution_count": 42
        }
      ]
    },
    {
      "cell_type": "code",
      "source": [
        "comb_arr.reshape(5,4)"
      ],
      "metadata": {
        "colab": {
          "base_uri": "https://localhost:8080/"
        },
        "id": "xEbvxAAavNp_",
        "outputId": "c2e68f15-b9ff-4531-9065-1deff94d54fe"
      },
      "execution_count": null,
      "outputs": [
        {
          "output_type": "execute_result",
          "data": {
            "text/plain": [
              "array([[ 1,  2,  3,  4],\n",
              "       [ 5,  5,  4,  3],\n",
              "       [ 2,  1,  6,  7],\n",
              "       [ 8,  9, 10, 10],\n",
              "       [ 9,  8,  7,  6]])"
            ]
          },
          "metadata": {},
          "execution_count": 43
        }
      ]
    },
    {
      "cell_type": "code",
      "source": [
        "comb_arr.reshape(2,10)"
      ],
      "metadata": {
        "colab": {
          "base_uri": "https://localhost:8080/"
        },
        "id": "m3sDwpEFv0s0",
        "outputId": "855066ea-2e66-4597-87f3-4a45d477bf77"
      },
      "execution_count": null,
      "outputs": [
        {
          "output_type": "execute_result",
          "data": {
            "text/plain": [
              "array([[ 1,  2,  3,  4,  5,  5,  4,  3,  2,  1],\n",
              "       [ 6,  7,  8,  9, 10, 10,  9,  8,  7,  6]])"
            ]
          },
          "metadata": {},
          "execution_count": 44
        }
      ]
    },
    {
      "cell_type": "code",
      "source": [
        "comb_arr.reshape(1,20)"
      ],
      "metadata": {
        "colab": {
          "base_uri": "https://localhost:8080/"
        },
        "id": "HsYa8sbXv8Ob",
        "outputId": "048ccfcb-4871-40f2-8eef-5839f76ded82"
      },
      "execution_count": null,
      "outputs": [
        {
          "output_type": "execute_result",
          "data": {
            "text/plain": [
              "array([[ 1,  2,  3,  4,  5,  5,  4,  3,  2,  1,  6,  7,  8,  9, 10, 10,\n",
              "         9,  8,  7,  6]])"
            ]
          },
          "metadata": {},
          "execution_count": 45
        }
      ]
    },
    {
      "cell_type": "code",
      "source": [
        "comb_arr.shape"
      ],
      "metadata": {
        "colab": {
          "base_uri": "https://localhost:8080/"
        },
        "id": "6y5wF_tGwDqu",
        "outputId": "1fd21070-f203-4fea-888d-d8794946a0bb"
      },
      "execution_count": null,
      "outputs": [
        {
          "output_type": "execute_result",
          "data": {
            "text/plain": [
              "(4, 5)"
            ]
          },
          "metadata": {},
          "execution_count": 46
        }
      ]
    },
    {
      "cell_type": "markdown",
      "source": [
        "## Indexing"
      ],
      "metadata": {
        "id": "Iwx0aggpwXPJ"
      }
    },
    {
      "cell_type": "code",
      "source": [
        "arr = np.array([x for x in range(1,11)])\n",
        "arr"
      ],
      "metadata": {
        "colab": {
          "base_uri": "https://localhost:8080/"
        },
        "id": "ZE9CFta7wWJP",
        "outputId": "8b0a4cd5-95e7-4921-e19c-cffd4ecbb0fd"
      },
      "execution_count": null,
      "outputs": [
        {
          "output_type": "execute_result",
          "data": {
            "text/plain": [
              "array([ 1,  2,  3,  4,  5,  6,  7,  8,  9, 10])"
            ]
          },
          "metadata": {},
          "execution_count": 47
        }
      ]
    },
    {
      "cell_type": "code",
      "source": [
        "arr[4]"
      ],
      "metadata": {
        "colab": {
          "base_uri": "https://localhost:8080/"
        },
        "id": "8-uQd5_wwc__",
        "outputId": "5cbcea75-3963-4f08-a934-f9d95261a80f"
      },
      "execution_count": null,
      "outputs": [
        {
          "output_type": "execute_result",
          "data": {
            "text/plain": [
              "5"
            ]
          },
          "metadata": {},
          "execution_count": 48
        }
      ]
    },
    {
      "cell_type": "code",
      "source": [
        "comb_arr"
      ],
      "metadata": {
        "colab": {
          "base_uri": "https://localhost:8080/"
        },
        "id": "_1XRLrxNw-be",
        "outputId": "60ca0f5d-e404-4f9f-cbaa-d151a1af37b2"
      },
      "execution_count": null,
      "outputs": [
        {
          "output_type": "execute_result",
          "data": {
            "text/plain": [
              "array([[ 1,  2,  3,  4,  5],\n",
              "       [ 5,  4,  3,  2,  1],\n",
              "       [ 6,  7,  8,  9, 10],\n",
              "       [10,  9,  8,  7,  6]])"
            ]
          },
          "metadata": {},
          "execution_count": 49
        }
      ]
    },
    {
      "cell_type": "code",
      "source": [
        "comb_arr[:,:]"
      ],
      "metadata": {
        "colab": {
          "base_uri": "https://localhost:8080/"
        },
        "id": "kpoT0YaGxEds",
        "outputId": "800e7772-1770-488f-9121-53bf2fae912f"
      },
      "execution_count": null,
      "outputs": [
        {
          "output_type": "execute_result",
          "data": {
            "text/plain": [
              "array([[ 1,  2,  3,  4,  5],\n",
              "       [ 5,  4,  3,  2,  1],\n",
              "       [ 6,  7,  8,  9, 10],\n",
              "       [10,  9,  8,  7,  6]])"
            ]
          },
          "metadata": {},
          "execution_count": 50
        }
      ]
    },
    {
      "cell_type": "code",
      "source": [
        "comb_arr[0:2,:]"
      ],
      "metadata": {
        "colab": {
          "base_uri": "https://localhost:8080/"
        },
        "id": "gaDzY4u-xdIG",
        "outputId": "59566220-f126-4ffb-c4b6-43705e386ad7"
      },
      "execution_count": null,
      "outputs": [
        {
          "output_type": "execute_result",
          "data": {
            "text/plain": [
              "array([[1, 2, 3, 4, 5],\n",
              "       [5, 4, 3, 2, 1]])"
            ]
          },
          "metadata": {},
          "execution_count": 51
        }
      ]
    },
    {
      "cell_type": "code",
      "source": [
        "comb_arr[0:2,0:3]"
      ],
      "metadata": {
        "colab": {
          "base_uri": "https://localhost:8080/"
        },
        "id": "Kp5Y9WpOxkt2",
        "outputId": "16ff0afa-62f2-446a-975a-be68dd583af1"
      },
      "execution_count": null,
      "outputs": [
        {
          "output_type": "execute_result",
          "data": {
            "text/plain": [
              "array([[1, 2, 3],\n",
              "       [5, 4, 3]])"
            ]
          },
          "metadata": {},
          "execution_count": 52
        }
      ]
    },
    {
      "cell_type": "code",
      "source": [
        "comb_arr[1:,2:]"
      ],
      "metadata": {
        "colab": {
          "base_uri": "https://localhost:8080/"
        },
        "id": "SIoHENUxxp26",
        "outputId": "546208cf-ad92-4228-d731-3d3ff3b11318"
      },
      "execution_count": null,
      "outputs": [
        {
          "output_type": "execute_result",
          "data": {
            "text/plain": [
              "array([[ 3,  2,  1],\n",
              "       [ 8,  9, 10],\n",
              "       [ 8,  7,  6]])"
            ]
          },
          "metadata": {},
          "execution_count": 54
        }
      ]
    },
    {
      "cell_type": "code",
      "source": [
        "comb_arr[1:3,2:4]"
      ],
      "metadata": {
        "colab": {
          "base_uri": "https://localhost:8080/"
        },
        "id": "P57XMNu4x5bd",
        "outputId": "3fde8cc2-03f1-4c29-d823-4f569ae99695"
      },
      "execution_count": null,
      "outputs": [
        {
          "output_type": "execute_result",
          "data": {
            "text/plain": [
              "array([[3, 2],\n",
              "       [8, 9]])"
            ]
          },
          "metadata": {},
          "execution_count": 56
        }
      ]
    },
    {
      "cell_type": "code",
      "source": [
        "#inbuilt function for listing out a range of values\n",
        "rarr = np.arange(0,9) #np.arange(start,upperlimit + 1, step)\n",
        "rarr"
      ],
      "metadata": {
        "colab": {
          "base_uri": "https://localhost:8080/"
        },
        "id": "OEVL7yllyC7N",
        "outputId": "b77e8207-f0f7-4c63-db78-5ccd07550da0"
      },
      "execution_count": null,
      "outputs": [
        {
          "output_type": "execute_result",
          "data": {
            "text/plain": [
              "array([0, 1, 2, 3, 4, 5, 6, 7, 8])"
            ]
          },
          "metadata": {},
          "execution_count": 58
        }
      ]
    },
    {
      "cell_type": "code",
      "source": [
        "rarr = np.arange(0,9,4)\n",
        "rarr"
      ],
      "metadata": {
        "colab": {
          "base_uri": "https://localhost:8080/"
        },
        "id": "AM4Tp5sryX-E",
        "outputId": "520582b4-6b48-4356-ccba-2ce8f99ed9e3"
      },
      "execution_count": null,
      "outputs": [
        {
          "output_type": "execute_result",
          "data": {
            "text/plain": [
              "array([0, 4, 8])"
            ]
          },
          "metadata": {},
          "execution_count": 59
        }
      ]
    },
    {
      "cell_type": "code",
      "source": [
        "# range of decimal values from start to stop\n",
        "darr = np.linspace(1,9,100)\n",
        "darr"
      ],
      "metadata": {
        "colab": {
          "base_uri": "https://localhost:8080/"
        },
        "id": "BA4qzExqynSI",
        "outputId": "4122fd2b-36b3-48c0-d5b3-813da52df45c"
      },
      "execution_count": null,
      "outputs": [
        {
          "output_type": "execute_result",
          "data": {
            "text/plain": [
              "array([1.        , 1.08080808, 1.16161616, 1.24242424, 1.32323232,\n",
              "       1.4040404 , 1.48484848, 1.56565657, 1.64646465, 1.72727273,\n",
              "       1.80808081, 1.88888889, 1.96969697, 2.05050505, 2.13131313,\n",
              "       2.21212121, 2.29292929, 2.37373737, 2.45454545, 2.53535354,\n",
              "       2.61616162, 2.6969697 , 2.77777778, 2.85858586, 2.93939394,\n",
              "       3.02020202, 3.1010101 , 3.18181818, 3.26262626, 3.34343434,\n",
              "       3.42424242, 3.50505051, 3.58585859, 3.66666667, 3.74747475,\n",
              "       3.82828283, 3.90909091, 3.98989899, 4.07070707, 4.15151515,\n",
              "       4.23232323, 4.31313131, 4.39393939, 4.47474747, 4.55555556,\n",
              "       4.63636364, 4.71717172, 4.7979798 , 4.87878788, 4.95959596,\n",
              "       5.04040404, 5.12121212, 5.2020202 , 5.28282828, 5.36363636,\n",
              "       5.44444444, 5.52525253, 5.60606061, 5.68686869, 5.76767677,\n",
              "       5.84848485, 5.92929293, 6.01010101, 6.09090909, 6.17171717,\n",
              "       6.25252525, 6.33333333, 6.41414141, 6.49494949, 6.57575758,\n",
              "       6.65656566, 6.73737374, 6.81818182, 6.8989899 , 6.97979798,\n",
              "       7.06060606, 7.14141414, 7.22222222, 7.3030303 , 7.38383838,\n",
              "       7.46464646, 7.54545455, 7.62626263, 7.70707071, 7.78787879,\n",
              "       7.86868687, 7.94949495, 8.03030303, 8.11111111, 8.19191919,\n",
              "       8.27272727, 8.35353535, 8.43434343, 8.51515152, 8.5959596 ,\n",
              "       8.67676768, 8.75757576, 8.83838384, 8.91919192, 9.        ])"
            ]
          },
          "metadata": {},
          "execution_count": 61
        }
      ]
    },
    {
      "cell_type": "code",
      "source": [
        "print(arr)\n",
        "#copy() or broadcasting\n",
        "arr[3:] = 100\n",
        "arr"
      ],
      "metadata": {
        "colab": {
          "base_uri": "https://localhost:8080/"
        },
        "id": "B2f_FxJry4nT",
        "outputId": "5b4807c3-0579-490f-b7cc-a4c1374449a1"
      },
      "execution_count": null,
      "outputs": [
        {
          "output_type": "stream",
          "name": "stdout",
          "text": [
            "[  1   2   3 100 100 100 100 100 100 100]\n"
          ]
        },
        {
          "output_type": "execute_result",
          "data": {
            "text/plain": [
              "array([  1,   2,   3, 100, 100, 100, 100, 100, 100, 100])"
            ]
          },
          "metadata": {},
          "execution_count": 65
        }
      ]
    },
    {
      "cell_type": "code",
      "source": [
        "_arr = arr #referencing\n",
        "_arr"
      ],
      "metadata": {
        "colab": {
          "base_uri": "https://localhost:8080/"
        },
        "id": "pG5bn-s5CLST",
        "outputId": "d6707d38-a25c-4298-ea2d-32f2a753e8b3"
      },
      "execution_count": null,
      "outputs": [
        {
          "output_type": "execute_result",
          "data": {
            "text/plain": [
              "array([  1,   2,   3, 100, 100, 100, 100, 100, 100, 100])"
            ]
          },
          "metadata": {},
          "execution_count": 68
        }
      ]
    },
    {
      "cell_type": "code",
      "source": [
        "_arr[3:] = 500\n",
        "_arr"
      ],
      "metadata": {
        "colab": {
          "base_uri": "https://localhost:8080/"
        },
        "id": "HqktrS8CCueX",
        "outputId": "16f785fc-1379-4b1d-faf3-427e3a187f4f"
      },
      "execution_count": null,
      "outputs": [
        {
          "output_type": "execute_result",
          "data": {
            "text/plain": [
              "array([  1,   2,   3, 500, 500, 500, 500, 500, 500, 500])"
            ]
          },
          "metadata": {},
          "execution_count": 69
        }
      ]
    },
    {
      "cell_type": "code",
      "source": [
        "arr"
      ],
      "metadata": {
        "colab": {
          "base_uri": "https://localhost:8080/"
        },
        "id": "q4loph3hC2BO",
        "outputId": "55ce450e-85cc-4539-ca94-8b6b9a7911cd"
      },
      "execution_count": null,
      "outputs": [
        {
          "output_type": "execute_result",
          "data": {
            "text/plain": [
              "array([  1,   2,   3, 500, 500, 500, 500, 500, 500, 500])"
            ]
          },
          "metadata": {},
          "execution_count": 70
        }
      ]
    },
    {
      "cell_type": "code",
      "source": [
        "print(\"Above you can see both the arrays have changed because of referencing\")"
      ],
      "metadata": {
        "colab": {
          "base_uri": "https://localhost:8080/"
        },
        "id": "RbYrEn8tC2nM",
        "outputId": "fdbf86c2-00f7-49ae-ffdc-bcd4b041fb3d"
      },
      "execution_count": null,
      "outputs": [
        {
          "output_type": "stream",
          "name": "stdout",
          "text": [
            "Above you can see both the arrays have changed because of referencing\n"
          ]
        }
      ]
    },
    {
      "cell_type": "code",
      "source": [
        "#In order to avoid that issue we are using copy() function as shown below\n",
        "arr[3:] = 100\n",
        "_arr = arr.copy()\n",
        "_arr[3:] = 500\n",
        "\n",
        "print(\"The original array : {} \\nand the copied array using copy() function is : {}\".format(arr,_arr))"
      ],
      "metadata": {
        "colab": {
          "base_uri": "https://localhost:8080/"
        },
        "id": "Gl9Wzlp7C-v5",
        "outputId": "8d12d544-ce94-44ee-8834-d26db10e334e"
      },
      "execution_count": null,
      "outputs": [
        {
          "output_type": "stream",
          "name": "stdout",
          "text": [
            "The original array : [  1   2   3 100 100 100 100 100 100 100] \n",
            "and the copied array using copy() function is : [  1   2   3 500 500 500 500 500 500 500]\n"
          ]
        }
      ]
    },
    {
      "cell_type": "markdown",
      "source": [
        "### Some conditions are useful in Exploratory data analysis"
      ],
      "metadata": {
        "id": "D1avq9UaEGyI"
      }
    },
    {
      "cell_type": "code",
      "source": [
        "val = 2"
      ],
      "metadata": {
        "id": "7GN4Q966D3FG"
      },
      "execution_count": null,
      "outputs": []
    },
    {
      "cell_type": "code",
      "source": [
        "arr < val"
      ],
      "metadata": {
        "colab": {
          "base_uri": "https://localhost:8080/"
        },
        "id": "fL5ChIyNEOm0",
        "outputId": "6a2d1087-e848-4177-9796-4d73e2fb631d"
      },
      "execution_count": null,
      "outputs": [
        {
          "output_type": "execute_result",
          "data": {
            "text/plain": [
              "array([ True, False, False, False, False, False, False, False, False,\n",
              "       False])"
            ]
          },
          "metadata": {},
          "execution_count": 75
        }
      ]
    },
    {
      "cell_type": "code",
      "source": [
        "arr * val"
      ],
      "metadata": {
        "colab": {
          "base_uri": "https://localhost:8080/"
        },
        "id": "EdcgzB0iEP3n",
        "outputId": "9909e588-1428-48eb-fb57-f1bc8c0a66b5"
      },
      "execution_count": null,
      "outputs": [
        {
          "output_type": "execute_result",
          "data": {
            "text/plain": [
              "array([  2,   4,   6, 200, 200, 200, 200, 200, 200, 200])"
            ]
          },
          "metadata": {},
          "execution_count": 76
        }
      ]
    },
    {
      "cell_type": "code",
      "source": [
        "arr // val"
      ],
      "metadata": {
        "colab": {
          "base_uri": "https://localhost:8080/"
        },
        "id": "xbcv5BjxEVGI",
        "outputId": "4d01b07d-bde8-46c3-afee-84b2fc90e19b"
      },
      "execution_count": null,
      "outputs": [
        {
          "output_type": "execute_result",
          "data": {
            "text/plain": [
              "array([ 0,  1,  1, 50, 50, 50, 50, 50, 50, 50])"
            ]
          },
          "metadata": {},
          "execution_count": 77
        }
      ]
    },
    {
      "cell_type": "markdown",
      "source": [
        "If you want the elements, rather than the boolean values of True & False, you perform the following"
      ],
      "metadata": {
        "id": "uZcxiRJUEgrj"
      }
    },
    {
      "cell_type": "code",
      "source": [
        "arr[arr < 4]"
      ],
      "metadata": {
        "colab": {
          "base_uri": "https://localhost:8080/"
        },
        "id": "qYi1k9cvEZSY",
        "outputId": "89d5075e-f99d-4b67-e5d0-680f67c1a72c"
      },
      "execution_count": null,
      "outputs": [
        {
          "output_type": "execute_result",
          "data": {
            "text/plain": [
              "array([1, 2, 3])"
            ]
          },
          "metadata": {},
          "execution_count": 78
        }
      ]
    },
    {
      "cell_type": "markdown",
      "source": [
        "There is a function for storing all ones in the array\n",
        "\n",
        "np.ones(#eles, dtype = dataType) `by default it is decimal`"
      ],
      "metadata": {
        "id": "mWIxhM_ME_yw"
      }
    },
    {
      "cell_type": "code",
      "source": [
        "np.ones(4)"
      ],
      "metadata": {
        "colab": {
          "base_uri": "https://localhost:8080/"
        },
        "id": "qGPYhqnNEtdF",
        "outputId": "2171b8c0-3cf6-4aef-da26-f80e0801fb36"
      },
      "execution_count": null,
      "outputs": [
        {
          "output_type": "execute_result",
          "data": {
            "text/plain": [
              "array([1., 1., 1., 1.])"
            ]
          },
          "metadata": {},
          "execution_count": 79
        }
      ]
    },
    {
      "cell_type": "code",
      "source": [
        "np.ones(5, dtype = int)"
      ],
      "metadata": {
        "colab": {
          "base_uri": "https://localhost:8080/"
        },
        "id": "9ysmDmRfFXII",
        "outputId": "a91543dc-7a74-429f-d0f9-8950d24726f5"
      },
      "execution_count": null,
      "outputs": [
        {
          "output_type": "execute_result",
          "data": {
            "text/plain": [
              "array([1, 1, 1, 1, 1])"
            ]
          },
          "metadata": {},
          "execution_count": 80
        }
      ]
    },
    {
      "cell_type": "code",
      "source": [
        "np.ones((4,5), dtype = int)"
      ],
      "metadata": {
        "colab": {
          "base_uri": "https://localhost:8080/"
        },
        "id": "uICY01KdFZvP",
        "outputId": "556b6403-ac3a-4ed8-e5bd-1f7cd2233295"
      },
      "execution_count": null,
      "outputs": [
        {
          "output_type": "execute_result",
          "data": {
            "text/plain": [
              "array([[1, 1, 1, 1, 1],\n",
              "       [1, 1, 1, 1, 1],\n",
              "       [1, 1, 1, 1, 1],\n",
              "       [1, 1, 1, 1, 1]])"
            ]
          },
          "metadata": {},
          "execution_count": 81
        }
      ]
    },
    {
      "cell_type": "code",
      "source": [
        "np.random.rand(3,4)"
      ],
      "metadata": {
        "colab": {
          "base_uri": "https://localhost:8080/"
        },
        "id": "LSyvuSuRFeuw",
        "outputId": "513a141f-02fb-4b7e-a4d0-1613a3f94e05"
      },
      "execution_count": null,
      "outputs": [
        {
          "output_type": "execute_result",
          "data": {
            "text/plain": [
              "array([[0.42365152, 0.30292007, 0.25493671, 0.72830673],\n",
              "       [0.46667255, 0.43225464, 0.64798041, 0.6977193 ],\n",
              "       [0.53433066, 0.24282431, 0.04089393, 0.41236099]])"
            ]
          },
          "metadata": {},
          "execution_count": 82
        }
      ]
    },
    {
      "cell_type": "code",
      "source": [
        "np.random.randn(2,4)"
      ],
      "metadata": {
        "colab": {
          "base_uri": "https://localhost:8080/"
        },
        "id": "DHl5n30hF3h-",
        "outputId": "cd50740f-9982-40bb-c303-5a580cd3254e"
      },
      "execution_count": null,
      "outputs": [
        {
          "output_type": "execute_result",
          "data": {
            "text/plain": [
              "array([[ 1.76723534, -1.3240578 ,  0.35450793, -0.16734625],\n",
              "       [ 0.68640569,  0.66944431, -0.72506197,  0.57039711]])"
            ]
          },
          "metadata": {},
          "execution_count": 84
        }
      ]
    },
    {
      "cell_type": "code",
      "source": [
        "import seaborn as sns\n",
        "import pandas as pd"
      ],
      "metadata": {
        "id": "VczdHMAUF6LH"
      },
      "execution_count": null,
      "outputs": []
    },
    {
      "cell_type": "code",
      "source": [
        "sns.distplot(pd.DataFrame(np.random.randn(2,9)))"
      ],
      "metadata": {
        "colab": {
          "base_uri": "https://localhost:8080/",
          "height": 648
        },
        "id": "Sktry7taGOw5",
        "outputId": "ffd31649-4713-4e42-ec71-53d58221b5de"
      },
      "execution_count": null,
      "outputs": [
        {
          "output_type": "stream",
          "name": "stderr",
          "text": [
            "<ipython-input-90-1da40b8d275e>:1: UserWarning: \n",
            "\n",
            "`distplot` is a deprecated function and will be removed in seaborn v0.14.0.\n",
            "\n",
            "Please adapt your code to use either `displot` (a figure-level function with\n",
            "similar flexibility) or `histplot` (an axes-level function for histograms).\n",
            "\n",
            "For a guide to updating your code to use the new functions, please see\n",
            "https://gist.github.com/mwaskom/de44147ed2974457ad6372750bbe5751\n",
            "\n",
            "  sns.distplot(pd.DataFrame(np.random.randn(2,9)))\n"
          ]
        },
        {
          "output_type": "execute_result",
          "data": {
            "text/plain": [
              "<Axes: ylabel='Density'>"
            ]
          },
          "metadata": {},
          "execution_count": 90
        },
        {
          "output_type": "display_data",
          "data": {
            "text/plain": [
              "<Figure size 640x480 with 1 Axes>"
            ],
            "image/png": "[encoded data removed]"
          },
          "metadata": {}
        }
      ]
    },
    {
      "cell_type": "code",
      "source": [
        "np.random.randint(40,50,4)"
      ],
      "metadata": {
        "colab": {
          "base_uri": "https://localhost:8080/"
        },
        "id": "oOhL08ZeGcBR",
        "outputId": "0715201c-6818-418c-fb88-4a0df0b5826f"
      },
      "execution_count": null,
      "outputs": [
        {
          "output_type": "execute_result",
          "data": {
            "text/plain": [
              "array([48, 49, 47, 46])"
            ]
          },
          "metadata": {},
          "execution_count": 91
        }
      ]
    },
    {
      "cell_type": "code",
      "source": [
        "np.random.randint(40,50,6).reshape(2,3)"
      ],
      "metadata": {
        "colab": {
          "base_uri": "https://localhost:8080/"
        },
        "id": "D2qiOMmNHPlA",
        "outputId": "46ddb372-e666-4b97-80c2-0f93ed3456a5"
      },
      "execution_count": null,
      "outputs": [
        {
          "output_type": "execute_result",
          "data": {
            "text/plain": [
              "array([[42, 40, 43],\n",
              "       [48, 45, 42]])"
            ]
          },
          "metadata": {},
          "execution_count": 92
        }
      ]
    },
    {
      "cell_type": "markdown",
      "source": [
        "# Pandas"
      ],
      "metadata": {
        "id": "NaKkrVpDXI-0"
      }
    },
    {
      "cell_type": "code",
      "source": [],
      "metadata": {
        "id": "3MHeveAtHU0c"
      },
      "execution_count": null,
      "outputs": []
    }
  ]
}